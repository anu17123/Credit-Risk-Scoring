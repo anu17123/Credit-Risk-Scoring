{
 "cells": [
  {
   "cell_type": "code",
   "execution_count": 15,
   "id": "eca09518-12c2-49fb-af62-370d0602215a",
   "metadata": {},
   "outputs": [],
   "source": [
    "import pandas as pd\n",
    "import numpy as np"
   ]
  },
  {
   "cell_type": "code",
   "execution_count": 16,
   "id": "00a81bf0-2b9c-4cbf-9bb5-1e777106d454",
   "metadata": {},
   "outputs": [
    {
     "name": "stdout",
     "output_type": "stream",
     "text": [
      "Loading dataset sample...\n",
      "Sample dataset loaded.\n",
      "Shape: (112998, 151)\n",
      "         id  member_id  loan_amnt  funded_amnt  funded_amnt_inv        term  \\\n",
      "0  68466926        NaN    10000.0      10000.0          10000.0   36 months   \n",
      "1  68338832        NaN     1400.0       1400.0           1400.0   36 months   \n",
      "2  68466916        NaN    25000.0      25000.0          25000.0   36 months   \n",
      "3  68476676        NaN    20000.0      20000.0          20000.0   36 months   \n",
      "4  68617034        NaN    14650.0      14650.0          14650.0   60 months   \n",
      "\n",
      "   int_rate  installment grade sub_grade  ... hardship_payoff_balance_amount  \\\n",
      "0      6.49       306.45     A        A2  ...                            NaN   \n",
      "1     12.88        47.10     C        C2  ...                            NaN   \n",
      "2      7.49       777.55     A        A4  ...                            NaN   \n",
      "3     15.77       700.88     D        D1  ...                            NaN   \n",
      "4     20.50       392.23     E        E4  ...                            NaN   \n",
      "\n",
      "  hardship_last_payment_amount disbursement_method  debt_settlement_flag  \\\n",
      "0                          NaN                Cash                     N   \n",
      "1                          NaN                Cash                     N   \n",
      "2                          NaN                Cash                     N   \n",
      "3                          NaN                Cash                     N   \n",
      "4                          NaN                Cash                     N   \n",
      "\n",
      "  debt_settlement_flag_date settlement_status settlement_date  \\\n",
      "0                       NaN               NaN             NaN   \n",
      "1                       NaN               NaN             NaN   \n",
      "2                       NaN               NaN             NaN   \n",
      "3                       NaN               NaN             NaN   \n",
      "4                       NaN               NaN             NaN   \n",
      "\n",
      "  settlement_amount settlement_percentage settlement_term  \n",
      "0               NaN                   NaN             NaN  \n",
      "1               NaN                   NaN             NaN  \n",
      "2               NaN                   NaN             NaN  \n",
      "3               NaN                   NaN             NaN  \n",
      "4               NaN                   NaN             NaN  \n",
      "\n",
      "[5 rows x 151 columns]\n"
     ]
    }
   ],
   "source": [
    "# Step 1 — Load a Sample Dataset directly\n",
    "# --------------------------\n",
    "print(\"Loading dataset sample...\")\n",
    "\n",
    "# Read file while skipping rows randomly (to sample ~5%)\n",
    "skip = lambda i: i > 0 and np.random.rand() > 0.05\n",
    "data = pd.read_csv('../data/raw_loan_data.csv', skiprows=skip, low_memory=False)\n",
    "\n",
    "print(\"Sample dataset loaded.\")\n",
    "print(\"Shape:\", data.shape)\n",
    "print(data.head())"
   ]
  },
  {
   "cell_type": "code",
   "execution_count": 9,
   "id": "dd80d182-b04d-4e77-b297-63ef9e0cb07f",
   "metadata": {},
   "outputs": [
    {
     "name": "stdout",
     "output_type": "stream",
     "text": [
      "\n",
      "Dataset Info:\n",
      "<class 'pandas.core.frame.DataFrame'>\n",
      "RangeIndex: 112665 entries, 0 to 112664\n",
      "Columns: 151 entries, id to settlement_term\n",
      "dtypes: float64(113), int64(1), object(37)\n",
      "memory usage: 129.8+ MB\n",
      "None\n",
      "\n",
      "Missing Values (%):\n",
      "member_id                                     100.000000\n",
      "orig_projected_additional_accrued_interest     99.606799\n",
      "hardship_loan_status                           99.516265\n",
      "hardship_start_date                            99.516265\n",
      "hardship_end_date                              99.516265\n",
      "                                                 ...    \n",
      "inq_last_6mths                                  0.000888\n",
      "earliest_cr_line                                0.000888\n",
      "open_acc                                        0.000888\n",
      "pub_rec                                         0.000888\n",
      "total_acc                                       0.000888\n",
      "Length: 111, dtype: float64\n"
     ]
    }
   ],
   "source": [
    "# Step 2 — Initial Exploration\n",
    "# --------------------------\n",
    "print(\"\\nDataset Info:\")\n",
    "print(data.info())\n",
    "\n",
    "print(\"\\nMissing Values (%):\")\n",
    "missing_percentage = data.isnull().mean() * 100\n",
    "print(missing_percentage[missing_percentage > 0].sort_values(ascending=False))\n"
   ]
  },
  {
   "cell_type": "code",
   "execution_count": 17,
   "id": "b18db0f8-5bac-4ca0-8b61-9c6c4930e41e",
   "metadata": {},
   "outputs": [
    {
     "name": "stdout",
     "output_type": "stream",
     "text": [
      "\n",
      "Cleaning dataset...\n"
     ]
    }
   ],
   "source": [
    "# Step 3 — Cleaning\n",
    "# --------------------------\n",
    "print(\"\\nCleaning dataset...\")\n",
    "\n",
    "# Drop rows with missing target\n",
    "data = data.dropna(subset=['loan_status'])\n",
    "\n",
    "# Fill numeric NaNs\n",
    "num_cols = data.select_dtypes(include=['float64', 'int64']).columns\n",
    "data[num_cols] = data[num_cols].fillna(data[num_cols].median())\n",
    "\n",
    "# Fill categorical NaNs\n",
    "cat_cols = data.select_dtypes(include=['object']).columns\n",
    "for col in cat_cols:\n",
    "    data[col] = data[col].fillna(data[col].mode()[0])\n"
   ]
  },
  {
   "cell_type": "code",
   "execution_count": 18,
   "id": "19bbf4fd-d014-4eeb-b627-954f7c7669ac",
   "metadata": {},
   "outputs": [
    {
     "name": "stdout",
     "output_type": "stream",
     "text": [
      "\n",
      "Encoding categorical columns...\n",
      "Encoded dataset shape: (112996, 180)\n"
     ]
    }
   ],
   "source": [
    "# Step 4 — Encoding\n",
    "# --------------------------\n",
    "print(\"\\nEncoding categorical columns...\")\n",
    "cat_cols = data.select_dtypes(include=['object']).columns\n",
    "\n",
    "# Encode only a few categorical columns to prevent memory overflow\n",
    "for col in cat_cols:\n",
    "    if data[col].nunique() <= 10:  # encode only if categories ≤ 10\n",
    "        data = pd.get_dummies(data, columns=[col], drop_first=True)\n",
    "    else:\n",
    "        data[col] = data[col].astype('category').cat.codes\n",
    "\n",
    "print(\"Encoded dataset shape:\", data.shape)"
   ]
  },
  {
   "cell_type": "code",
   "execution_count": 19,
   "id": "114bd98e-0e7f-44f7-a5af-d16749bcd64f",
   "metadata": {},
   "outputs": [
    {
     "name": "stdout",
     "output_type": "stream",
     "text": [
      "Cleaned dataset saved to ../data/cleaned_loan_data.csv\n"
     ]
    }
   ],
   "source": [
    "# Step 5 — Save Cleaned Dataset\n",
    "# --------------------------\n",
    "clean_path = '../data/cleaned_loan_data.csv'\n",
    "data.to_csv(clean_path, index=False)\n",
    "print(f\"Cleaned dataset saved to {clean_path}\")\n"
   ]
  },
  {
   "cell_type": "code",
   "execution_count": 20,
   "id": "de197a85-6687-46e8-b258-6b1ad382ba21",
   "metadata": {},
   "outputs": [
    {
     "name": "stdout",
     "output_type": "stream",
     "text": [
      "\n",
      "Final dataset info:\n",
      "<class 'pandas.core.frame.DataFrame'>\n",
      "Index: 112996 entries, 0 to 112997\n",
      "Columns: 180 entries, id to settlement_status_COMPLETE\n",
      "dtypes: bool(46), float64(113), int16(7), int32(3), int8(11)\n",
      "memory usage: 107.2 MB\n",
      "None\n",
      "\n",
      "First 5 rows of cleaned data:\n",
      "      id  member_id  loan_amnt  funded_amnt  funded_amnt_inv  int_rate  \\\n",
      "0  84534        NaN    10000.0      10000.0          10000.0      6.49   \n",
      "1  84253        NaN     1400.0       1400.0           1400.0     12.88   \n",
      "2  84533        NaN    25000.0      25000.0          25000.0      7.49   \n",
      "3  84552        NaN    20000.0      20000.0          20000.0     15.77   \n",
      "4  84860        NaN    14650.0      14650.0          14650.0     20.50   \n",
      "\n",
      "   installment  sub_grade  emp_title  emp_length  ...  hardship_status_BROKEN  \\\n",
      "0       306.45          1      30357           6  ...                   False   \n",
      "1        47.10         11      20451           3  ...                   False   \n",
      "2       777.55          3      30896           1  ...                   False   \n",
      "3       700.88         15       7196           5  ...                   False   \n",
      "4       392.23         23      32451           2  ...                   False   \n",
      "\n",
      "   hardship_status_COMPLETED  hardship_loan_status_In Grace Period  \\\n",
      "0                       True                                 False   \n",
      "1                       True                                 False   \n",
      "2                       True                                 False   \n",
      "3                       True                                 False   \n",
      "4                       True                                 False   \n",
      "\n",
      "   hardship_loan_status_Issued  hardship_loan_status_Late (16-30 days)  \\\n",
      "0                        False                                    True   \n",
      "1                        False                                    True   \n",
      "2                        False                                    True   \n",
      "3                        False                                    True   \n",
      "4                        False                                    True   \n",
      "\n",
      "   hardship_loan_status_Late (31-120 days)  disbursement_method_DirectPay  \\\n",
      "0                                    False                          False   \n",
      "1                                    False                          False   \n",
      "2                                    False                          False   \n",
      "3                                    False                          False   \n",
      "4                                    False                          False   \n",
      "\n",
      "   debt_settlement_flag_Y  settlement_status_BROKEN  \\\n",
      "0                   False                     False   \n",
      "1                   False                     False   \n",
      "2                   False                     False   \n",
      "3                   False                     False   \n",
      "4                   False                     False   \n",
      "\n",
      "   settlement_status_COMPLETE  \n",
      "0                        True  \n",
      "1                        True  \n",
      "2                        True  \n",
      "3                        True  \n",
      "4                        True  \n",
      "\n",
      "[5 rows x 180 columns]\n"
     ]
    }
   ],
   "source": [
    "# Step 6 — Final Check\n",
    "# --------------------------\n",
    "print(\"\\nFinal dataset info:\")\n",
    "print(data.info())\n",
    "\n",
    "print(\"\\nFirst 5 rows of cleaned data:\")\n",
    "print(data.head())"
   ]
  },
  {
   "cell_type": "code",
   "execution_count": null,
   "id": "a5405873-087e-46d0-b8d0-293d4dc12f41",
   "metadata": {},
   "outputs": [],
   "source": []
  }
 ],
 "metadata": {
  "kernelspec": {
   "display_name": "Python 3 (ipykernel)",
   "language": "python",
   "name": "python3"
  },
  "language_info": {
   "codemirror_mode": {
    "name": "ipython",
    "version": 3
   },
   "file_extension": ".py",
   "mimetype": "text/x-python",
   "name": "python",
   "nbconvert_exporter": "python",
   "pygments_lexer": "ipython3",
   "version": "3.12.0"
  }
 },
 "nbformat": 4,
 "nbformat_minor": 5
}
